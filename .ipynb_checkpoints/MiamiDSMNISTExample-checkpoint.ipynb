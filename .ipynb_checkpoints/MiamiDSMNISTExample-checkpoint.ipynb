{
 "cells": [
  {
   "cell_type": "markdown",
   "metadata": {},
   "source": [
    "This notebook is intended to be used as a simple example of pytorch for the upcoming Miami Data Science meetup in November 2019. Here, we will build a simple handwritten digit classifier using the MNIST dataset and pytorch.\n",
    "\n",
    "To make this notebook work, please download anaconda on your machine: https://www.anaconda.com/distribution/\n",
    "\n",
    "Then create a virtual environment with pytorch by using the following commands: <i>\n",
    "    \n",
    "    conda create --name MiamiData python=3.7 \n",
    "    python -m ipykernel install --user --name MiamiData --display-name \"MiamiData - Python (3.7)\" \n",
    "    conda activate MiamiData \n",
    "    conda install pytorch torchvision cudatoolkit=10.0 -c pytorch \n",
    "    conda install matplotlib jupyter \n",
    "    git clone https://github.com/jacobffjensen/MiamiData2019.git \n",
    "    jupyter notebook"
   ]
  },
  {
   "cell_type": "code",
   "execution_count": 1,
   "metadata": {},
   "outputs": [],
   "source": [
    "import torch\n",
    "import torch.nn as nn\n",
    "import torch.optim as optim\n",
    "import torch.nn.functional as F\n",
    "from torchvision import datasets, transforms\n",
    "import matplotlib.pyplot as plt\n",
    "import numpy as np"
   ]
  },
  {
   "cell_type": "code",
   "execution_count": 2,
   "metadata": {},
   "outputs": [],
   "source": [
    "# Build a simple 2 layer linear model for classifying digits:\n",
    "#   input - 28x28 grayscale photo\n",
    "#   output - a prediction of which digit (0..10) the photo contains\n",
    "class MyModel(nn.Module):\n",
    "    def __init__(self):\n",
    "        super().__init__()\n",
    "        self.L1 = nn.Linear(28*28,100)\n",
    "        self.L2 = nn.Linear(100,10)\n",
    "        self.D1 = nn.Dropout(0.2)\n",
    "    def forward(self,x):\n",
    "        x = x.view(x.shape[0],-1)\n",
    "        x = F.relu(self.L1(x))\n",
    "        x = self.D1(x)\n",
    "        x = self.L2(x)\n",
    "        x = F.log_softmax(x,dim=1)\n",
    "        return x"
   ]
  },
  {
   "cell_type": "code",
   "execution_count": 3,
   "metadata": {},
   "outputs": [
    {
     "name": "stdout",
     "output_type": "stream",
     "text": [
      "Total Train Dataset Size 60032\n",
      "Total Test Dataset Size 10048\n"
     ]
    }
   ],
   "source": [
    "# Select how many photos to train in one go\n",
    "batch_size=64\n",
    "\n",
    "# Modify each photo before passing into neural network\n",
    "transform = transforms.Compose([transforms.ToTensor(),\n",
    "                                transforms.Normalize((0.5,), (0.5,))])\n",
    "\n",
    "# Download photos and create data loaders for both testing and training sets\n",
    "trainset = datasets.MNIST('~/.pytorch/MNIST_data/', download=True, train=True, transform=transform)\n",
    "trainloader = torch.utils.data.DataLoader(trainset, batch_size=batch_size, shuffle=True)\n",
    "testset = datasets.MNIST('~/.pytorch/MNIST_data/', download=True, train=False, transform=transform)\n",
    "testloader = torch.utils.data.DataLoader(testset, batch_size=batch_size)\n",
    "\n",
    "print (\"Total Train Dataset Size\",len(trainloader)*batch_size)\n",
    "print (\"Total Test Dataset Size\",len(testloader)*batch_size)"
   ]
  },
  {
   "cell_type": "code",
   "execution_count": 4,
   "metadata": {},
   "outputs": [
    {
     "name": "stdout",
     "output_type": "stream",
     "text": [
      "torch.Size([64, 1, 28, 28])\n"
     ]
    }
   ],
   "source": [
    "# Take a look at the data more closely\n",
    "images,labels = next(iter(testloader))\n",
    "print (images.shape)"
   ]
  },
  {
   "cell_type": "code",
   "execution_count": 5,
   "metadata": {},
   "outputs": [],
   "source": [
    "def testAccuracy(model, testloader, criterion, printResult=False):\n",
    "    tLossTotal = 0\n",
    "    acc = 0\n",
    "    numCorrect = 0\n",
    "    \n",
    "    model.eval()\n",
    "    with torch.no_grad():\n",
    "        for images, labels in testloader:\n",
    "            pred = model(images)\n",
    "            tLoss = criterion(pred,labels)\n",
    "            tLossTotal += tLoss.item()            \n",
    "            ps = torch.exp(pred)\n",
    "            top_p, top_class = ps.topk(1, dim=1)\n",
    "            numCorrect += torch.sum(top_class.squeeze() == labels).item()\n",
    "    \n",
    "    acc = numCorrect / len(testloader) / batch_size\n",
    "    tLoss = tLossTotal / len(testloader)\n",
    "\n",
    "    if printResult:\n",
    "        print (f\"Testing Loss {tLoss:.3f} Accuracy: {acc*100:.2f}%\")\n",
    "    \n",
    "    model.train()\n",
    "    return tLoss, acc"
   ]
  },
  {
   "cell_type": "code",
   "execution_count": 6,
   "metadata": {},
   "outputs": [
    {
     "name": "stdout",
     "output_type": "stream",
     "text": [
      "Epoch 1 / 4: Train Loss: 0.43, Test Loss 0.20, Test Accuracy: 93.52%\n",
      "Epoch 2 / 4: Train Loss: 0.23, Test Loss 0.15, Test Accuracy: 95.01%\n",
      "Epoch 3 / 4: Train Loss: 0.19, Test Loss 0.14, Test Accuracy: 95.34%\n",
      "Epoch 4 / 4: Train Loss: 0.16, Test Loss 0.12, Test Accuracy: 96.07%\n"
     ]
    }
   ],
   "source": [
    "# Create an instance of the model\n",
    "model = MyModel()\n",
    "\n",
    "# Select an optimizer and loss function (use cross entropy == softmax + NLLLoss())\n",
    "optimzer = optim.SGD(model.parameters(),lr=0.01, momentum=0.9)\n",
    "criterion = nn.NLLLoss()\n",
    "\n",
    "# Train the model\n",
    "numEpochs = 4\n",
    "model.train()\n",
    "for e in range(numEpochs):\n",
    "    trainLoss=0\n",
    "    for images, labels in trainloader:        \n",
    "        pred = model(images)\n",
    "        loss = criterion(pred,labels)\n",
    "        optimzer.zero_grad()\n",
    "        loss.backward()\n",
    "        optimzer.step()    \n",
    "        \n",
    "        # Track training loss (avg loss across the batch) as we train\n",
    "        trainLoss += loss.item()\n",
    "    \n",
    "    # Check the training loss and testing loss/accuarcy\n",
    "    trainLoss = trainLoss / len(trainloader)\n",
    "    testLoss, acc = testAccuracy(model, testloader, criterion, False)    \n",
    "    print (f\"Epoch {e+1} / {numEpochs}: Train Loss: {trainLoss:.2f}, Test Loss {testLoss:.2f}, Test Accuracy: {acc*100:.2f}%\")"
   ]
  },
  {
   "cell_type": "code",
   "execution_count": 7,
   "metadata": {},
   "outputs": [],
   "source": [
    "# Define a function that prints out the picture and the model's prediction\n",
    "def displayImage(img, label):\n",
    "    print (\"Actual Label: \", label)\n",
    "    fig, (ax1) = plt.subplots(figsize=(6,9), ncols=1)\n",
    "    ax1.imshow(img.resize_(1, 28, 28).numpy().squeeze())\n",
    "    ax1.axis('off')\n",
    "    plt.tight_layout()"
   ]
  },
  {
   "cell_type": "code",
   "execution_count": 8,
   "metadata": {},
   "outputs": [
    {
     "name": "stdout",
     "output_type": "stream",
     "text": [
      "Actual Label:  6\n",
      "Model predicts a 6 with 97% probability.\n"
     ]
    },
    {
     "data": {
      "image/png": "[encoded data removed]",
      "text/plain": [
       "<Figure size 432x648 with 1 Axes>"
      ]
     },
     "metadata": {
      "needs_background": "light"
     },
     "output_type": "display_data"
    }
   ],
   "source": [
    "# Get a single image\n",
    "imgNum=11\n",
    "images, labels = next(iter(testloader))\n",
    "img = images[imgNum]\n",
    "\n",
    "# Do a forward pass\n",
    "model.eval()\n",
    "predLog = model(img)\n",
    "\n",
    "# Determine class prediction and print result\n",
    "predProb = torch.exp(predLog)\n",
    "prob, predClass = predProb.topk(1, dim=1)\n",
    "prob = prob.data.squeeze().tolist()\n",
    "predClass = predClass.squeeze().tolist()\n",
    "\n",
    "displayImage(img,labels[imgNum].tolist())\n",
    "print (f\"Model predicts a {predClass} with {prob*100:.0f}% probability.\")"
   ]
  }
 ],
 "metadata": {
  "kernelspec": {
   "display_name": "Python (PY37)",
   "language": "python",
   "name": "py37"
  },
  "language_info": {
   "codemirror_mode": {
    "name": "ipython",
    "version": 3
   },
   "file_extension": ".py",
   "mimetype": "text/x-python",
   "name": "python",
   "nbconvert_exporter": "python",
   "pygments_lexer": "ipython3",
   "version": "3.7.4"
  }
 },
 "nbformat": 4,
 "nbformat_minor": 2
}
